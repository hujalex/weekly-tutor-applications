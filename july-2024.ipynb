{
 "cells": [
  {
   "cell_type": "code",
   "execution_count": 115,
   "id": "4b56cc6f",
   "metadata": {},
   "outputs": [],
   "source": [
    "import pandas as pd"
   ]
  },
  {
   "cell_type": "code",
   "execution_count": null,
   "id": "def706ff",
   "metadata": {},
   "outputs": [],
   "source": [
    "df = pd.read_csv('export-tutors-2025-07-11-162954 (1).csv') # import data"
   ]
  },
  {
   "cell_type": "code",
   "execution_count": null,
   "id": "7f861564",
   "metadata": {},
   "outputs": [],
   "source": [
    "df['Date Created'] = pd.to_datetime(df['Date Created']).dt.normalize() # Convert dates to 'YYYY-MM-DD' format"
   ]
  },
  {
   "cell_type": "code",
   "execution_count": 118,
   "id": "fc9870ca",
   "metadata": {},
   "outputs": [],
   "source": [
    "july_august_2024 = df[(df['Date Created'] >= '2024-06-01') & (df['Date Created'] <= '2024-07-01')]"
   ]
  },
  {
   "cell_type": "code",
   "execution_count": 119,
   "id": "4c09a6c9",
   "metadata": {},
   "outputs": [
    {
     "data": {
      "text/plain": [
       "63"
      ]
     },
     "execution_count": 119,
     "metadata": {},
     "output_type": "execute_result"
    }
   ],
   "source": [
    "len(july_august_2024)"
   ]
  },
  {
   "cell_type": "code",
   "execution_count": 120,
   "id": "160db47c",
   "metadata": {},
   "outputs": [
    {
     "data": {
      "text/plain": [
       "Index(['ID', 'Title', 'Content', 'Excerpt', 'Status', 'Date Created',\n",
       "       'Date Modified', 'Author', 'URL', 'admissions_department_bio',\n",
       "       'admissions_department_role', 'advertising_department_role',\n",
       "       'anything_to_add', 'awards', 'board_bio', 'board_email', 'board_order',\n",
       "       'board_title', 'chapters_department_bio', 'chapters_department_role',\n",
       "       'chapter_president', 'charges', 'classes', 'department_bio',\n",
       "       'department_order', 'department_role', 'director_bio', 'director_email',\n",
       "       'director_order', 'director_title', 'email',\n",
       "       'extracurricular_activities', 'felony_misdemeanor', 'gpa', 'gpa_reveal',\n",
       "       'grade', 'hours_available', 'institution', 'institution_name',\n",
       "       'media_department_bio', 'media_department_role', 'min_service_period',\n",
       "       'motivation', 'operations_department_bio', 'operations_department_role',\n",
       "       'partnerships_department_bio', 'partnerships_department_role',\n",
       "       'phone_number', 'photo', 'pledge', 'president_of_a_chapter',\n",
       "       'profile_group', 'profile_group_gpa', 'profile_group_gpa_reveal',\n",
       "       'profile_group_grade', 'profile_group_priority',\n",
       "       'profile_group_referrer', 'punishment', 'signature', 'subjects',\n",
       "       'subjects_other', 'times', 'times_friday', 'times_hours',\n",
       "       'times_monday', 'times_saturday', 'times_sunday', 'times_thursday',\n",
       "       'times_tuesday', 'times_wednesday', 'time_zone', 'tutor_shadowing',\n",
       "       'unpaid_acknowledgement'],\n",
       "      dtype='object')"
      ]
     },
     "execution_count": 120,
     "metadata": {},
     "output_type": "execute_result"
    }
   ],
   "source": [
    "july_august_2024.columns"
   ]
  },
  {
   "cell_type": "code",
   "execution_count": 121,
   "id": "6c8057bd",
   "metadata": {},
   "outputs": [],
   "source": [
    "july_august_2024['institution_name'].value_counts().reset_index().to_csv(\"july_august_institution_names.csv\", index = False)"
   ]
  },
  {
   "cell_type": "code",
   "execution_count": 122,
   "id": "61659f65",
   "metadata": {},
   "outputs": [
    {
     "data": {
      "text/plain": [
       "institution_name\n",
       "Northville High School                                     4\n",
       "Pamushana High                                             1\n",
       "North Garland High School                                  1\n",
       "BARD High School Early College                             1\n",
       "Mira Mesa High School                                      1\n",
       "Michigan State University                                  1\n",
       "West Bloomfield High School                                1\n",
       "Frederick Douglass High School                             1\n",
       "Independence High school                                   1\n",
       "The Winchester School.                                     1\n",
       "Bishop Verot                                               1\n",
       "Miami Sunset Senior High School                            1\n",
       "OHS                                                        1\n",
       "Thomas Jefferson High School for Science and Technology    1\n",
       "Downtown Magnets High School                               1\n",
       "Waubonsie Valley                                           1\n",
       "Esperanza High School                                      1\n",
       "Carmel High School                                         1\n",
       "New Trier High School                                      1\n",
       "Arnold O Beckman High School                               1\n",
       "Name: count, dtype: int64"
      ]
     },
     "execution_count": 122,
     "metadata": {},
     "output_type": "execute_result"
    }
   ],
   "source": [
    "july_august_2024['institution_name'].value_counts().head(20)"
   ]
  },
  {
   "cell_type": "code",
   "execution_count": null,
   "id": "6ef31368",
   "metadata": {},
   "outputs": [],
   "source": []
  }
 ],
 "metadata": {
  "kernelspec": {
   "display_name": "venv",
   "language": "python",
   "name": "python3"
  },
  "language_info": {
   "codemirror_mode": {
    "name": "ipython",
    "version": 3
   },
   "file_extension": ".py",
   "mimetype": "text/x-python",
   "name": "python",
   "nbconvert_exporter": "python",
   "pygments_lexer": "ipython3",
   "version": "3.12.3"
  }
 },
 "nbformat": 4,
 "nbformat_minor": 5
}
